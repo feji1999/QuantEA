{
 "cells": [
  {
   "cell_type": "code",
   "execution_count": 1,
   "metadata": {},
   "outputs": [
    {
     "name": "stdout",
     "output_type": "stream",
     "text": [
      "Serving at port 8000\n"
     ]
    },
    {
     "name": "stderr",
     "output_type": "stream",
     "text": [
      "127.0.0.1 - - [28/Jul/2024 22:27:06] code 404, message File not found\n",
      "127.0.0.1 - - [28/Jul/2024 22:27:06] \"GET /index.html HTTP/1.1\" 404 -\n",
      "127.0.0.1 - - [28/Jul/2024 22:27:07] code 404, message File not found\n",
      "127.0.0.1 - - [28/Jul/2024 22:27:07] \"GET /favicon.ico HTTP/1.1\" 404 -\n",
      "127.0.0.1 - - [28/Jul/2024 22:29:02] \"GET /algos.html HTTP/1.1\" 200 -\n",
      "127.0.0.1 - - [28/Jul/2024 22:29:02] \"GET /realtime.js HTTP/1.1\" 200 -\n",
      "127.0.0.1 - - [28/Jul/2024 22:29:02] \"GET /algos.js HTTP/1.1\" 200 -\n",
      "127.0.0.1 - - [28/Jul/2024 22:29:05] \"GET /data/trades.json HTTP/1.1\" 200 -\n",
      "127.0.0.1 - - [28/Jul/2024 22:31:01] \"GET /data/trades.json HTTP/1.1\" 304 -\n"
     ]
    }
   ],
   "source": [
    "# server.py\n",
    "\n",
    "from http.server import SimpleHTTPRequestHandler, HTTPServer\n",
    "import socketserver\n",
    "\n",
    "class CORSHTTPRequestHandler(SimpleHTTPRequestHandler):\n",
    "    def end_headers(self):\n",
    "        self.send_header('Access-Control-Allow-Origin', '*')\n",
    "        super().end_headers()\n",
    "\n",
    "PORT = 8000\n",
    "\n",
    "with socketserver.TCPServer((\"\", PORT), CORSHTTPRequestHandler) as httpd:\n",
    "    print(f\"Serving at port {PORT}\")\n",
    "    httpd.serve_forever()\n"
   ]
  },
  {
   "cell_type": "code",
   "execution_count": null,
   "metadata": {},
   "outputs": [],
   "source": []
  }
 ],
 "metadata": {
  "kernelspec": {
   "display_name": "Python 3",
   "language": "python",
   "name": "python3"
  },
  "language_info": {
   "codemirror_mode": {
    "name": "ipython",
    "version": 3
   },
   "file_extension": ".py",
   "mimetype": "text/x-python",
   "name": "python",
   "nbconvert_exporter": "python",
   "pygments_lexer": "ipython3",
   "version": "3.12.1"
  }
 },
 "nbformat": 4,
 "nbformat_minor": 2
}
